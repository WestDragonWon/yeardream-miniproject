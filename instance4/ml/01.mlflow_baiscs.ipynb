{
 "cells": [
  {
   "cell_type": "markdown",
   "metadata": {},
   "source": [
    "## 1. ML flow settings"
   ]
  },
  {
   "cell_type": "markdown",
   "metadata": {},
   "source": [
    "- pip install mlflow\n",
    "- mlflow ui"
   ]
  },
  {
   "cell_type": "markdown",
   "metadata": {},
   "source": [
    "## 2. Model Load"
   ]
  },
  {
   "cell_type": "code",
   "execution_count": 1,
   "metadata": {},
   "outputs": [
    {
     "ename": "ModuleNotFoundError",
     "evalue": "No module named 'sklearn'",
     "output_type": "error",
     "traceback": [
      "\u001b[0;31m---------------------------------------------------------------------------\u001b[0m",
      "\u001b[0;31mModuleNotFoundError\u001b[0m                       Traceback (most recent call last)",
      "Cell \u001b[0;32mIn[1], line 2\u001b[0m\n\u001b[1;32m      1\u001b[0m \u001b[38;5;66;03m# 라이브러리 import\u001b[39;00m\n\u001b[0;32m----> 2\u001b[0m \u001b[38;5;28;01mfrom\u001b[39;00m \u001b[38;5;21;01msklearn\u001b[39;00m\u001b[38;5;21;01m.\u001b[39;00m\u001b[38;5;21;01mdatasets\u001b[39;00m \u001b[38;5;28;01mimport\u001b[39;00m load_iris\n\u001b[1;32m      3\u001b[0m \u001b[38;5;28;01mfrom\u001b[39;00m \u001b[38;5;21;01msklearn\u001b[39;00m\u001b[38;5;21;01m.\u001b[39;00m\u001b[38;5;21;01mmodel_selection\u001b[39;00m \u001b[38;5;28;01mimport\u001b[39;00m train_test_split\n\u001b[1;32m      4\u001b[0m \u001b[38;5;28;01mfrom\u001b[39;00m \u001b[38;5;21;01msklearn\u001b[39;00m\u001b[38;5;21;01m.\u001b[39;00m\u001b[38;5;21;01mpreprocessing\u001b[39;00m \u001b[38;5;28;01mimport\u001b[39;00m StandardScaler\n",
      "\u001b[0;31mModuleNotFoundError\u001b[0m: No module named 'sklearn'"
     ]
    }
   ],
   "source": [
    "# 라이브러리 import\n",
    "from sklearn.datasets import load_iris\n",
    "from sklearn.model_selection import train_test_split\n",
    "from sklearn.preprocessing import StandardScaler\n",
    "\n",
    "import mlflow\n",
    "import mlflow.sklearn"
   ]
  },
  {
   "cell_type": "code",
   "execution_count": 55,
   "metadata": {},
   "outputs": [],
   "source": [
    "iris = load_iris() # 꽃 받침과 꽃 잎 사이즈를 가지고 꽃의 종류를 결정\n",
    "\n",
    "X = iris.data\n",
    "y = iris.target\n",
    "\n",
    "scaler = StandardScaler()\n",
    "X_scaled = scaler.fit_transform(X)\n",
    "\n",
    "# 학습 데이터와 테스트 데이터로 분리 => train_test_split()\n",
    "X_train, X_test, y_train, y_test = train_test_split(X_scaled, y, test_size=0.2, random_state=123)"
   ]
  },
  {
   "cell_type": "code",
   "execution_count": 56,
   "metadata": {},
   "outputs": [],
   "source": [
    "# 통계 - 데이터가 표준분포를 따른다는 가정하에\n",
    "# 여러분들이 데이터 분석을 열심히해서 => 팀장님께 전달드렸어요.\n",
    "# 팀장님이 질문을 합니다. => 좋은데... 이 분석결과를 어떻게 믿을 수 있는데? => 통계적인 데이터 \n",
    "# ex) A후보가 오차범위 +- 3% 내 당선 유력합니다.\n",
    "\n",
    "# 강남구 평균 재산 조사를 해봤더니 30억 // 이재용 회장님이 껴있는거야. (100조) \n",
    "# - 전처리 => outlier 이상치를 제거, 데이터 분포를 보고, 평균과 표준편차를 확인하고, 왜도-첨도."
   ]
  },
  {
   "cell_type": "code",
   "execution_count": 57,
   "metadata": {},
   "outputs": [
    {
     "name": "stdout",
     "output_type": "stream",
     "text": [
      "정확도 : 93.33333333333333\n"
     ]
    },
    {
     "name": "stderr",
     "output_type": "stream",
     "text": [
      "/Users/inseop/Desktop/mlops-project/.venv/lib/python3.9/site-packages/sklearn/linear_model/_logistic.py:469: ConvergenceWarning: lbfgs failed to converge (status=1):\n",
      "STOP: TOTAL NO. of ITERATIONS REACHED LIMIT.\n",
      "\n",
      "Increase the number of iterations (max_iter) or scale the data as shown in:\n",
      "    https://scikit-learn.org/stable/modules/preprocessing.html\n",
      "Please also refer to the documentation for alternative solver options:\n",
      "    https://scikit-learn.org/stable/modules/linear_model.html#logistic-regression\n",
      "  n_iter_i = _check_optimize_result(\n"
     ]
    }
   ],
   "source": [
    "from sklearn.linear_model import LogisticRegression\n",
    "from sklearn.metrics import accuracy_score\n",
    "\n",
    "model = LogisticRegression(max_iter=0)\n",
    "model.fit(X_train, y_train) # train=모의고사 # 학습을 시킬 때는 학습 데이터만 제공\n",
    "\n",
    "y_pred = model.predict(X_test) # 수능 문제를 제공\n",
    "accuracy = accuracy_score(y_test, y_pred)\n",
    "\n",
    "print(f\"정확도 : {accuracy * 100}\")"
   ]
  },
  {
   "cell_type": "markdown",
   "metadata": {},
   "source": [
    "### 모델 학습과 모델 성능 \n",
    "\n",
    "- 심플하게 모든 것을 ML flow에게 맡긴다. => mlflow.autolog()\n",
    "- autolog에서 추적하지 못하는 다른 파라미터, 메트릭, 메타데이터 등등의 값을 수동으로 기록"
   ]
  },
  {
   "cell_type": "code",
   "execution_count": 58,
   "metadata": {},
   "outputs": [
    {
     "name": "stdout",
     "output_type": "stream",
     "text": [
      "Tracking URI :  http://127.0.0.1:5000\n"
     ]
    }
   ],
   "source": [
    "mlflow.set_tracking_uri(\"http://127.0.0.1:5000\") # dev.fastcampus.com:5000\n",
    "print(\"Tracking URI : \", mlflow.get_tracking_uri())"
   ]
  },
  {
   "cell_type": "code",
   "execution_count": 59,
   "metadata": {},
   "outputs": [
    {
     "name": "stderr",
     "output_type": "stream",
     "text": [
      "2024/08/14 15:47:30 INFO mlflow.tracking.fluent: Experiment with name 'iris_classification_experiments' does not exist. Creating a new experiment.\n"
     ]
    },
    {
     "name": "stdout",
     "output_type": "stream",
     "text": [
      "Name: iris_classification_experiments\n",
      "ID: 273063112817362178\n",
      "Location: mlflow-artifacts:/273063112817362178\n",
      "Tags: {}\n",
      "Lifecycle: active\n",
      "Create Timestamp: 1723618050874\n"
     ]
    }
   ],
   "source": [
    "exp = mlflow.set_experiment(experiment_name='iris_classification_experiments')\n",
    "\n",
    "print(f\"Name: {exp.name}\")\n",
    "print(f\"ID: {exp.experiment_id}\")\n",
    "print(f\"Location: {exp.artifact_location}\")\n",
    "print(f\"Tags: {exp.tags}\")\n",
    "print(f\"Lifecycle: {exp.lifecycle_stage}\")\n",
    "print(f\"Create Timestamp: {exp.creation_time}\")"
   ]
  },
  {
   "cell_type": "code",
   "execution_count": 60,
   "metadata": {},
   "outputs": [
    {
     "data": {
      "text/plain": [
       "1723618050.889921"
      ]
     },
     "execution_count": 60,
     "metadata": {},
     "output_type": "execute_result"
    }
   ],
   "source": [
    "# Create Timestamp: 1723613497264\n",
    "\n",
    "import time\n",
    "time.time()"
   ]
  },
  {
   "cell_type": "code",
   "execution_count": 61,
   "metadata": {},
   "outputs": [
    {
     "name": "stderr",
     "output_type": "stream",
     "text": [
      "2024/08/14 15:47:30 INFO mlflow.tracking._tracking_service.client: 🏃 View run respected-moose-134 at: http://127.0.0.1:5000/#/experiments/273063112817362178/runs/c5d40042030b4c16b222c8721b1e6178.\n",
      "2024/08/14 15:47:30 INFO mlflow.tracking._tracking_service.client: 🧪 View experiment at: http://127.0.0.1:5000/#/experiments/273063112817362178.\n"
     ]
    },
    {
     "name": "stdout",
     "output_type": "stream",
     "text": [
      "정확도 : 96.66666666666667\n"
     ]
    }
   ],
   "source": [
    "import mlflow.sklearn\n",
    "\n",
    "mlflow.autolog()\n",
    "\n",
    "mlflow.start_run(nested=True) # 실험 시작\n",
    "model = LogisticRegression(max_iter=200)\n",
    "model.fit(X_train, y_train) # train=모의고사 # 학습을 시킬 때는 학습 데이터만 제공\n",
    "\n",
    "y_pred = model.predict(X_test) # 수능 문제를 제공\n",
    "accuracy = accuracy_score(y_test, y_pred)\n",
    "\n",
    "print(f\"정확도 : {accuracy * 100}\")\n",
    "\n",
    "mlflow.end_run() # 실험 종료"
   ]
  },
  {
   "cell_type": "code",
   "execution_count": 62,
   "metadata": {},
   "outputs": [
    {
     "name": "stderr",
     "output_type": "stream",
     "text": [
      "2024/08/14 15:47:30 INFO mlflow.tracking._tracking_service.client: 🏃 View run gregarious-shark-891 at: http://127.0.0.1:5000/#/experiments/273063112817362178/runs/ed5afe209faf48fe865ad3f316e8a3ab.\n",
      "2024/08/14 15:47:30 INFO mlflow.tracking._tracking_service.client: 🧪 View experiment at: http://127.0.0.1:5000/#/experiments/273063112817362178.\n"
     ]
    },
    {
     "name": "stdout",
     "output_type": "stream",
     "text": [
      "정확도 : 96.66666666666667\n"
     ]
    }
   ],
   "source": [
    "import mlflow.sklearn\n",
    "\n",
    "mlflow.autolog()\n",
    "\n",
    "# with, end 구문을 붙이지 않아도 알아서 실험 종료가 됩니다.\n",
    "with mlflow.start_run(nested=True): # 실험 시작\n",
    "    model = LogisticRegression(max_iter=200)\n",
    "    model.fit(X_train, y_train) # train=모의고사 # 학습을 시킬 때는 학습 데이터만 제공\n",
    "\n",
    "    y_pred = model.predict(X_test) # 수능 문제를 제공\n",
    "    accuracy = accuracy_score(y_test, y_pred)\n",
    "\n",
    "    print(f\"정확도 : {accuracy * 100}\")"
   ]
  },
  {
   "cell_type": "code",
   "execution_count": 63,
   "metadata": {},
   "outputs": [],
   "source": [
    "from sklearn.linear_model import LogisticRegression\n",
    "from sklearn.ensemble import RandomForestClassifier\n",
    "from sklearn.svm import SVC\n",
    "\n",
    "models = {\n",
    "    \"LogisticRegression\" : LogisticRegression(\n",
    "        max_iter=200, # 최대 반복 횟수\n",
    "        C=1.0, # 규제 강도(C값이 작을수록 규제가 강해짐)\n",
    "        solver='lbfgs', # 최적화 알고리즘\n",
    "        random_state=123\n",
    "    ),\n",
    "    \"RandomForest\" : RandomForestClassifier(\n",
    "        n_estimators=100, # 트리의 갯수\n",
    "        max_depth=None,\n",
    "        random_state=123\n",
    "    ),\n",
    "    \"SVC\" : SVC(\n",
    "        kernel='linear', # linear, sigmoid, poly, rbf\n",
    "        random_state=123\n",
    "    )\n",
    "}"
   ]
  },
  {
   "cell_type": "code",
   "execution_count": 64,
   "metadata": {},
   "outputs": [
    {
     "name": "stdout",
     "output_type": "stream",
     "text": [
      "Model Name: LogisticRegression, Accuracy: 0.9666666666666667\n"
     ]
    },
    {
     "name": "stderr",
     "output_type": "stream",
     "text": [
      "2024/08/14 15:47:31 INFO mlflow.tracking._tracking_service.client: 🏃 View run calm-robin-731 at: http://127.0.0.1:5000/#/experiments/273063112817362178/runs/e49366bcf52d45bb94dd04d1b8a301fd.\n",
      "2024/08/14 15:47:31 INFO mlflow.tracking._tracking_service.client: 🧪 View experiment at: http://127.0.0.1:5000/#/experiments/273063112817362178.\n"
     ]
    },
    {
     "name": "stdout",
     "output_type": "stream",
     "text": [
      "Model Name: RandomForest, Accuracy: 0.9333333333333333\n",
      "Model Name: SVC, Accuracy: 0.9333333333333333\n",
      "Best Model Name: LogisticRegression, Best Accuracy: 0.9666666666666667\n"
     ]
    }
   ],
   "source": [
    "# 위 모델들을 한번에 불러와서(반복문) => 최고의 모델을 찾아내고, 해당 파라미터를 기록합니다.\n",
    "\n",
    "mlflow.autolog()\n",
    "\n",
    "best_accuracy = 0\n",
    "best_model = None\n",
    "best_model_name = None\n",
    "\n",
    "with mlflow.start_run(nested=True):\n",
    "    for model_name, model in models.items():\n",
    "        model.fit(X_train, y_train)\n",
    "        y_pred = model.predict(X_test)\n",
    "        accuracy = accuracy_score(y_test, y_pred)\n",
    "\n",
    "        if accuracy > best_accuracy:\n",
    "            best_accuracy = accuracy\n",
    "            best_model_name = model_name\n",
    "            best_model = model\n",
    "\n",
    "        print(f\"Model Name: {model_name}, Accuracy: {accuracy}\")\n",
    "\n",
    "        mlflow.log_param('best_model', best_model_name) # 파라미터 로그\n",
    "        mlflow.log_metric('best_accuracy', best_accuracy) # 메트릭 로그\n",
    "\n",
    "    print(f\"Best Model Name: {best_model_name}, Best Accuracy: {best_accuracy}\")"
   ]
  },
  {
   "cell_type": "code",
   "execution_count": 65,
   "metadata": {},
   "outputs": [
    {
     "name": "stderr",
     "output_type": "stream",
     "text": [
      "2024/08/14 15:47:33 WARNING mlflow.models.model: Input example should be provided to infer model signature if the model signature is not provided when logging the model.\n",
      "2024/08/14 15:47:33 INFO mlflow.tracking._tracking_service.client: 🏃 View run LogisticRegression at: http://127.0.0.1:5000/#/experiments/273063112817362178/runs/c43fcd5ca3e1413cbcd802d622f591e6.\n",
      "2024/08/14 15:47:33 INFO mlflow.tracking._tracking_service.client: 🧪 View experiment at: http://127.0.0.1:5000/#/experiments/273063112817362178.\n"
     ]
    },
    {
     "name": "stdout",
     "output_type": "stream",
     "text": [
      "Model Name: LogisticRegression, Accuracy: 0.9666666666666667\n"
     ]
    },
    {
     "name": "stderr",
     "output_type": "stream",
     "text": [
      "2024/08/14 15:47:35 WARNING mlflow.models.model: Input example should be provided to infer model signature if the model signature is not provided when logging the model.\n",
      "2024/08/14 15:47:35 INFO mlflow.tracking._tracking_service.client: 🏃 View run RandomForest at: http://127.0.0.1:5000/#/experiments/273063112817362178/runs/b51b64586c584bc687437f1d82701270.\n",
      "2024/08/14 15:47:35 INFO mlflow.tracking._tracking_service.client: 🧪 View experiment at: http://127.0.0.1:5000/#/experiments/273063112817362178.\n"
     ]
    },
    {
     "name": "stdout",
     "output_type": "stream",
     "text": [
      "Model Name: RandomForest, Accuracy: 0.9333333333333333\n"
     ]
    },
    {
     "name": "stderr",
     "output_type": "stream",
     "text": [
      "2024/08/14 15:47:37 WARNING mlflow.models.model: Input example should be provided to infer model signature if the model signature is not provided when logging the model.\n",
      "2024/08/14 15:47:37 INFO mlflow.tracking._tracking_service.client: 🏃 View run SVC at: http://127.0.0.1:5000/#/experiments/273063112817362178/runs/3ca2a2a4a7dd46dfa7a6068a5ca1d06d.\n",
      "2024/08/14 15:47:37 INFO mlflow.tracking._tracking_service.client: 🧪 View experiment at: http://127.0.0.1:5000/#/experiments/273063112817362178.\n"
     ]
    },
    {
     "name": "stdout",
     "output_type": "stream",
     "text": [
      "Model Name: SVC, Accuracy: 0.9333333333333333\n"
     ]
    }
   ],
   "source": [
    "mlflow.autolog()\n",
    "\n",
    "# 전체 모델에 대해서 기록을 하고 싶은데?\n",
    "for model_name, model in models.items():\n",
    "    with mlflow.start_run(run_name=model_name, nested=True):\n",
    "        model.fit(X_train, y_train)\n",
    "        y_pred = model.predict(X_test)\n",
    "        accuracy = accuracy_score(y_test, y_pred)\n",
    "\n",
    "        # 모델을 mlflow에 저장\n",
    "        model_path = f\"{model_name}_model\"\n",
    "        mlflow.sklearn.log_model(model, model_path) # 모델을 artifact 디렉토리에 저장\n",
    "\n",
    "        mlflow.log_param(f'{model_name}_param', model.get_params()) # 파라미터 로그\n",
    "        mlflow.log_metric(f'{model_name}_accuracy', accuracy) # 메트릭 로그\n",
    "\n",
    "        print(f\"Model Name: {model_name}, Accuracy: {accuracy}\")"
   ]
  },
  {
   "cell_type": "code",
   "execution_count": 66,
   "metadata": {},
   "outputs": [],
   "source": [
    "# 제 전략\n",
    "# - 회사에서 전략: 3년 이내 억대 연봉 => ??? => 2~3인분 하는거죠.\n",
    "# - 내 업무 + 그 외 영역까지 함께.\n",
    "# - Android SDK + Web SDK + Flutter SDK + React SDK ... \n",
    "# - 빠르게 억대 연봉을 찍고 그 다음 스텝으로 넘어가고 싶었어요. => 스톡옵션을 받을 수 있습니다."
   ]
  },
  {
   "cell_type": "code",
   "execution_count": 71,
   "metadata": {},
   "outputs": [],
   "source": [
    "# 모델 관리\n",
    "from mlflow.tracking import MlflowClient\n",
    "\n",
    "client = MlflowClient()\n",
    "\n",
    "\n",
    "# 모델을 등록하고, 해당 모델의 버전을 반환\n",
    "def register_model(model_name, run_id, model_uri='model'): # 모델 등록\n",
    "    model_uri = f\"runs:/{run_id}/{model_uri}\"\n",
    "    model_version = mlflow.register_model(model_uri, model_name)\n",
    "    return model_version\n",
    "\n",
    "# 등록된 모델을 stage 단계로 승격\n",
    "def promote_to_staging(model_name, run_id, model_uri): # stage\n",
    "    model_version = register_model(model_name, run_id, model_uri)\n",
    "\n",
    "    client.set_model_version_tag(\n",
    "        name=model_name,\n",
    "        version=model_version.version,\n",
    "        key='stage',\n",
    "        value='staging'\n",
    "    )\n",
    "    print(f\"Model: {model_name}, version: {model_version} promoted to Staging...\")\n",
    "\n",
    "def promote_to_production(model_name, version): # production\n",
    "    client.set_model_version_tag(\n",
    "        name=model_name,\n",
    "        version=version,\n",
    "        key='stage',\n",
    "        value='production'\n",
    "    )\n",
    "\n",
    "    print(f\"Model: {model_name}, version: {version} promoted to Production...\")\n",
    "\n",
    "\n",
    "def archive_model(model_name, version): # archive: 모델 폐기 단계\n",
    "    client.set_model_version_tag(\n",
    "        name=model_name,\n",
    "        version=version,\n",
    "        key='stage',\n",
    "        value='archived'\n",
    "    )\n",
    "    \n",
    "    print(f\"Model: {model_name}, version: {version} Archived ...\")"
   ]
  },
  {
   "cell_type": "markdown",
   "metadata": {},
   "source": [
    "부트캠프: 짧은 시간 내에 실무지식 익혀서 성과(포트폴리오)\n",
    "- 포트폴리오\n",
    "- 기록: 너 공부 얼마나 열심히했어? -> 제 블로그 보시면 압니다.. 새벽에 감수성 있는 글도 작성.\n",
    "- 일기장: 눈물자국.\n",
    "\n",
    "이악깡 - 악으로 깡으로"
   ]
  },
  {
   "cell_type": "code",
   "execution_count": 68,
   "metadata": {},
   "outputs": [
    {
     "name": "stderr",
     "output_type": "stream",
     "text": [
      "Successfully registered model 'LogisticRegression'.\n",
      "2024/08/14 16:40:49 INFO mlflow.store.model_registry.abstract_store: Waiting up to 300 seconds for model version to finish creation. Model name: LogisticRegression, version 1\n"
     ]
    },
    {
     "name": "stdout",
     "output_type": "stream",
     "text": [
      "<ModelVersion: aliases=[], creation_timestamp=1723621249544, current_stage='None', description='', last_updated_timestamp=1723621249544, name='LogisticRegression', run_id='c43fcd5ca3e1413cbcd802d622f591e6', run_link='', source='mlflow-artifacts:/273063112817362178/c43fcd5ca3e1413cbcd802d622f591e6/artifacts/model', status='READY', status_message='', tags={}, user_id='', version='1'>\n"
     ]
    },
    {
     "name": "stderr",
     "output_type": "stream",
     "text": [
      "Created version '1' of model 'LogisticRegression'.\n"
     ]
    }
   ],
   "source": [
    "# http://127.0.0.1:5000/#/experiments/273063112817362178/runs/c43fcd5ca3e1413cbcd802d622f591e6\n",
    "# 실험ID: 273063112817362178\n",
    "# 실행ID: c43fcd5ca3e1413cbcd802d622f591e6\n",
    "# Model Name: LogisticRegression\n",
    "\n",
    "# (1) 모델 등록\n",
    "run_id = 'c43fcd5ca3e1413cbcd802d622f591e6'\n",
    "model_name = 'LogisticRegression'\n",
    "\n",
    "model_version = register_model(model_name, run_id)\n",
    "print(model_version)"
   ]
  },
  {
   "cell_type": "code",
   "execution_count": 73,
   "metadata": {},
   "outputs": [
    {
     "name": "stderr",
     "output_type": "stream",
     "text": [
      "Registered model 'LogisticRegression' already exists. Creating a new version of this model...\n",
      "2024/08/14 16:48:02 INFO mlflow.store.model_registry.abstract_store: Waiting up to 300 seconds for model version to finish creation. Model name: LogisticRegression, version 4\n"
     ]
    },
    {
     "name": "stdout",
     "output_type": "stream",
     "text": [
      "Model: LogisticRegression, version: <ModelVersion: aliases=[], creation_timestamp=1723621682358, current_stage='None', description='', last_updated_timestamp=1723621682358, name='LogisticRegression', run_id='c43fcd5ca3e1413cbcd802d622f591e6', run_link='', source='mlflow-artifacts:/273063112817362178/c43fcd5ca3e1413cbcd802d622f591e6/artifacts/model', status='READY', status_message='', tags={}, user_id='', version='4'> promoted to Staging...\n"
     ]
    },
    {
     "name": "stderr",
     "output_type": "stream",
     "text": [
      "Created version '4' of model 'LogisticRegression'.\n"
     ]
    }
   ],
   "source": [
    "# (2) 모델을 staging 단계로 승격\n",
    "promote_to_staging(model_name, run_id, 'model')"
   ]
  },
  {
   "cell_type": "code",
   "execution_count": 74,
   "metadata": {},
   "outputs": [
    {
     "name": "stdout",
     "output_type": "stream",
     "text": [
      "Model: LogisticRegression, version: 3 promoted to Production...\n"
     ]
    }
   ],
   "source": [
    "# (3) 모델을 Production 단계로 승격\n",
    "promote_to_production(model_name, '3')"
   ]
  },
  {
   "cell_type": "code",
   "execution_count": 75,
   "metadata": {},
   "outputs": [
    {
     "name": "stdout",
     "output_type": "stream",
     "text": [
      "Model: LogisticRegression, version: 4 promoted to Production...\n",
      "Model: LogisticRegression, version: 3 Archived ...\n"
     ]
    }
   ],
   "source": [
    "# (4) 새로운 버전의 모델을 Production으로 승격시키고, 기존의 Production 버전은 Archived\n",
    "promote_to_production(model_name, '4') # 4 staging -> production\n",
    "archive_model(model_name, '3') # production -> archive"
   ]
  },
  {
   "cell_type": "markdown",
   "metadata": {},
   "source": [
    "### 모델 Serving\n",
    "\n",
    "- FastAPI, Flask ... => API로 언제만들지...?????\n",
    "- mlflow가 해결을 해줍니다.\n",
    "- inference: 값을 전달하고, 그 값에 대한 예측값을 return (API)"
   ]
  },
  {
   "cell_type": "code",
   "execution_count": null,
   "metadata": {},
   "outputs": [],
   "source": []
  }
 ],
 "metadata": {
  "kernelspec": {
   "display_name": ".venv",
   "language": "python",
   "name": "python3"
  },
  "language_info": {
   "codemirror_mode": {
    "name": "ipython",
    "version": 3
   },
   "file_extension": ".py",
   "mimetype": "text/x-python",
   "name": "python",
   "nbconvert_exporter": "python",
   "pygments_lexer": "ipython3",
   "version": "3.11.9"
  }
 },
 "nbformat": 4,
 "nbformat_minor": 2
}
