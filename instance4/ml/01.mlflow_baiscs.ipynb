{
 "cells": [
  {
   "cell_type": "markdown",
   "metadata": {},
   "source": [
    "## 1. ML flow settings"
   ]
  },
  {
   "cell_type": "markdown",
   "metadata": {},
   "source": [
    "- pip install mlflow\n",
    "- mlflow ui"
   ]
  },
  {
   "cell_type": "markdown",
   "metadata": {},
   "source": [
    "## 2. Model Load"
   ]
  },
  {
   "cell_type": "code",
   "execution_count": 1,
   "metadata": {},
   "outputs": [],
   "source": [
    "# 라이브러리 import\n",
    "from sklearn.datasets import load_iris\n",
    "from sklearn.model_selection import train_test_split\n",
    "from sklearn.preprocessing import StandardScaler\n",
    "\n",
    "import mlflow\n",
    "import mlflow.sklearn\n",
    "\n",
    "from sklearn.linear_model import LogisticRegression\n",
    "from sklearn.ensemble import RandomForestClassifier\n",
    "from sklearn.svm import SVC\n",
    "\n",
    "from sklearn.metrics import accuracy_score\n",
    "\n",
    "from mlflow.tracking import MlflowClient"
   ]
  },
  {
   "cell_type": "code",
   "execution_count": 2,
   "metadata": {},
   "outputs": [],
   "source": [
    "iris = load_iris() # 꽃 받침과 꽃 잎 사이즈를 가지고 꽃의 종류를 결정\n",
    "\n",
    "X = iris.data\n",
    "y = iris.target\n",
    "\n",
    "scaler = StandardScaler()\n",
    "X_scaled = scaler.fit_transform(X)\n",
    "\n",
    "# 학습 데이터와 테스트 데이터로 분리 => train_test_split()\n",
    "X_train, X_test, y_train, y_test = train_test_split(X_scaled, y, test_size=0.2, random_state=123)"
   ]
  },
  {
   "cell_type": "markdown",
   "metadata": {},
   "source": [
    "### 모델 학습과 모델 성능 \n",
    "\n",
    "- 심플하게 모든 것을 ML flow에게 맡긴다. => mlflow.autolog()\n",
    "- autolog에서 추적하지 못하는 다른 파라미터, 메트릭, 메타데이터 등등의 값을 수동으로 기록"
   ]
  },
  {
   "cell_type": "code",
   "execution_count": 3,
   "metadata": {},
   "outputs": [
    {
     "name": "stdout",
     "output_type": "stream",
     "text": [
      "Tracking URI :  http://10.103.73.87:8080\n"
     ]
    }
   ],
   "source": [
    "#mlflow.set_tracking_uri(\"http://127.0.0.1:5001\")\n",
    "mlflow.set_tracking_uri(\"http://10.103.73.87:8080\") # dev.fastcampus.com:5000\n",
    "print(\"Tracking URI : \", mlflow.get_tracking_uri())"
   ]
  },
  {
   "cell_type": "code",
   "execution_count": 4,
   "metadata": {},
   "outputs": [
    {
     "name": "stderr",
     "output_type": "stream",
     "text": [
      "2024/09/12 18:10:00 INFO mlflow.tracking.fluent: Experiment with name 'iris_classification_experiments_s3_test' does not exist. Creating a new experiment.\n"
     ]
    },
    {
     "name": "stdout",
     "output_type": "stream",
     "text": [
      "Name: iris_classification_experiments_s3_test\n",
      "ID: 1\n",
      "Location: s3://team06-mlflow-feature/1\n",
      "Tags: {}\n",
      "Lifecycle: active\n",
      "Create Timestamp: 1726132200727\n"
     ]
    }
   ],
   "source": [
    "exp = mlflow.set_experiment(experiment_name='iris_classification_experiments_s3_test')\n",
    "\n",
    "print(f\"Name: {exp.name}\")\n",
    "print(f\"ID: {exp.experiment_id}\")\n",
    "print(f\"Location: {exp.artifact_location}\")\n",
    "print(f\"Tags: {exp.tags}\")\n",
    "print(f\"Lifecycle: {exp.lifecycle_stage}\")\n",
    "print(f\"Create Timestamp: {exp.creation_time}\")"
   ]
  },
  {
   "cell_type": "code",
   "execution_count": 5,
   "metadata": {},
   "outputs": [],
   "source": [
    "models = {\n",
    "    \"LogisticRegression\" : LogisticRegression(\n",
    "        max_iter=200, # 최대 반복 횟수\n",
    "        C=0.5, # 규제 강도(C값이 작을수록 규제가 강해짐)\n",
    "        solver='lbfgs', # 최적화 알고리즘\n",
    "        random_state=123\n",
    "    ),\n",
    "    \"RandomForest\" : RandomForestClassifier(\n",
    "        n_estimators=100, # 트리의 갯수\n",
    "        max_depth=None,\n",
    "        random_state=123\n",
    "    ),\n",
    "    \"SVC\" : SVC(\n",
    "        kernel='linear', # linear, sigmoid, poly, rbf\n",
    "        random_state=123\n",
    "    )\n",
    "}"
   ]
  },
  {
   "cell_type": "code",
   "execution_count": 6,
   "metadata": {},
   "outputs": [
    {
     "name": "stderr",
     "output_type": "stream",
     "text": [
      "2024/09/12 18:10:10 INFO mlflow.tracking.fluent: Autologging successfully enabled for sklearn.\n"
     ]
    },
    {
     "name": "stdout",
     "output_type": "stream",
     "text": [
      "LogisticRegression\n"
     ]
    },
    {
     "name": "stderr",
     "output_type": "stream",
     "text": [
      "2024/09/12 18:10:21 WARNING mlflow.models.model: Model logged without a signature and input example. Please set `input_example` parameter when logging the model to auto infer the model signature.\n",
      "2024/09/12 18:10:21 INFO mlflow.tracking._tracking_service.client: 🏃 View run LogisticRegression at: http://10.103.73.87:8080/#/experiments/1/runs/96c44a126d2040c9a9b1a8361eb2f49d.\n",
      "2024/09/12 18:10:21 INFO mlflow.tracking._tracking_service.client: 🧪 View experiment at: http://10.103.73.87:8080/#/experiments/1.\n"
     ]
    },
    {
     "name": "stdout",
     "output_type": "stream",
     "text": [
      "Model Name: LogisticRegression, Accuracy: 0.9666666666666667\n",
      "RandomForest\n"
     ]
    },
    {
     "name": "stderr",
     "output_type": "stream",
     "text": [
      "2024/09/12 18:10:30 WARNING mlflow.models.model: Model logged without a signature and input example. Please set `input_example` parameter when logging the model to auto infer the model signature.\n",
      "2024/09/12 18:10:30 INFO mlflow.tracking._tracking_service.client: 🏃 View run RandomForest at: http://10.103.73.87:8080/#/experiments/1/runs/4fad06b9de91403f93b6961fb6121b8e.\n",
      "2024/09/12 18:10:30 INFO mlflow.tracking._tracking_service.client: 🧪 View experiment at: http://10.103.73.87:8080/#/experiments/1.\n"
     ]
    },
    {
     "name": "stdout",
     "output_type": "stream",
     "text": [
      "Model Name: RandomForest, Accuracy: 0.9333333333333333\n",
      "SVC\n"
     ]
    },
    {
     "name": "stderr",
     "output_type": "stream",
     "text": [
      "2024/09/12 18:10:37 WARNING mlflow.models.model: Model logged without a signature and input example. Please set `input_example` parameter when logging the model to auto infer the model signature.\n",
      "2024/09/12 18:10:37 INFO mlflow.tracking._tracking_service.client: 🏃 View run SVC at: http://10.103.73.87:8080/#/experiments/1/runs/e24f73e47d0b4e59886c2398168a091e.\n",
      "2024/09/12 18:10:37 INFO mlflow.tracking._tracking_service.client: 🧪 View experiment at: http://10.103.73.87:8080/#/experiments/1.\n"
     ]
    },
    {
     "name": "stdout",
     "output_type": "stream",
     "text": [
      "Model Name: SVC, Accuracy: 0.9333333333333333\n",
      "\n",
      "\n",
      "\n",
      "96c44a126d2040c9a9b1a8361eb2f49d\n",
      "1\n"
     ]
    }
   ],
   "source": [
    "\n",
    "mlflow.autolog()\n",
    "\n",
    "best_accuracy = 0\n",
    "best_model = None\n",
    "best_model_name = None\n",
    "\n",
    "# 전체 모델에 대해서 기록을 하고 싶은데?\n",
    "for model_name, model in models.items():\n",
    "    print(model_name)\n",
    "    with mlflow.start_run(run_name=model_name, nested=True) as run:\n",
    "        model.fit(X_train, y_train)\n",
    "        y_pred = model.predict(X_test)\n",
    "        accuracy = accuracy_score(y_test, y_pred)\n",
    "\n",
    "        if accuracy > best_accuracy:\n",
    "            best_accuracy = accuracy\n",
    "            best_model_name = model_name\n",
    "            best_model = model\n",
    "            best_run_id = run.info.run_id  # 현재 run의 ID 저장\n",
    "            best_experiment_id = run.info.experiment_id  # 현재 experiment ID 저장\n",
    "\n",
    "        # 모델을 mlflow에 저장\n",
    "        model_path = f\"{model_name}_model\"\n",
    "        mlflow.sklearn.log_model(model, model_path) # 모델을 artifact 디렉토리에 저장\n",
    "\n",
    "        mlflow.log_param(f'{model_name}_param', model.get_params()) # 파라미터 로그\n",
    "        mlflow.log_metric(f'{model_name}_accuracy', accuracy) # 메트릭 로그\n",
    "\n",
    "        print(f\"Model Name: {model_name}, Accuracy: {accuracy}\")\n",
    "\n",
    "\n",
    "print()\n",
    "print()\n",
    "print()\n",
    "print(best_run_id)\n",
    "print(best_experiment_id)"
   ]
  },
  {
   "cell_type": "code",
   "execution_count": 7,
   "metadata": {},
   "outputs": [],
   "source": [
    "# 모델 관리\n",
    "\n",
    "\n",
    "client = MlflowClient()\n",
    "\n",
    "\n",
    "# 모델을 등록하고, 해당 모델의 버전을 반환\n",
    "def register_model(model_name, run_id, accuracy, model_uri='model'): # 모델 등록\n",
    "    model_uri = f\"runs:/{run_id}/{model_uri}\"\n",
    "    model_version = mlflow.register_model(model_uri, model_name, tags = {'stage':'staging', 'accuracy':f\"{accuracy:0.5f}\"})\n",
    "    return model_version\n",
    "'''\n",
    "# 등록된 모델을 stage 단계로 승격\n",
    "def promote_to_staging(model_name, run_id, model_uri): # stage\n",
    "    model_version = register_model(model_name, run_id, model_uri)\n",
    "\n",
    "    client.set_model_version_tag(\n",
    "        name=model_name,\n",
    "        version=model_version.version,\n",
    "        key='stage',\n",
    "        value='staging',\n",
    "        key='accuracy',\n",
    "        value = accuracy\n",
    "        \n",
    "    )\n",
    "    print(f\"Model: {model_name}, version: {model_version} promoted to Staging...\")\n",
    "'''\n",
    "def promote_to_production(model_name, version): # production\n",
    "    client.set_model_version_tag(\n",
    "        name=model_name,\n",
    "        version=version,\n",
    "        key='stage',\n",
    "        value='production'\n",
    "    )\n",
    "\n",
    "    print(f\"Model: {model_name}, version: {version} promoted to Production...\")\n",
    "\n",
    "\n",
    "def archive_model(model_name, version): # archive: 모델 폐기 단계\n",
    "    client.set_model_version_tag(\n",
    "        name=model_name,\n",
    "        version=version,\n",
    "        key='stage',\n",
    "        value='archived'\n",
    "    )\n",
    "    \n",
    "    print(f\"Model: {model_name}, version: {version} Archived ...\")"
   ]
  },
  {
   "cell_type": "code",
   "execution_count": 8,
   "metadata": {},
   "outputs": [
    {
     "name": "stderr",
     "output_type": "stream",
     "text": [
      "Successfully registered model 'LogisticRegression'.\n",
      "2024/09/12 18:10:50 INFO mlflow.store.model_registry.abstract_store: Waiting up to 300 seconds for model version to finish creation. Model name: LogisticRegression, version 1\n"
     ]
    },
    {
     "name": "stdout",
     "output_type": "stream",
     "text": [
      "<ModelVersion: aliases=[], creation_timestamp=1726132250035, current_stage='None', description='', last_updated_timestamp=1726132250035, name='LogisticRegression', run_id='96c44a126d2040c9a9b1a8361eb2f49d', run_link='', source='s3://team06-mlflow-feature/1/96c44a126d2040c9a9b1a8361eb2f49d/artifacts/model', status='READY', status_message='', tags={'accuracy': '0.96667', 'stage': 'staging'}, user_id='', version='1'>\n"
     ]
    },
    {
     "name": "stderr",
     "output_type": "stream",
     "text": [
      "Created version '1' of model 'LogisticRegression'.\n"
     ]
    }
   ],
   "source": [
    "# http://127.0.0.1:5000/#/experiments/273063112817362178/runs/c43fcd5ca3e1413cbcd802d622f591e6\n",
    "# 실험ID: 273063112817362178\n",
    "# 실행ID: c43fcd5ca3e1413cbcd802d622f591e6\n",
    "# Model Name: LogisticRegression\n",
    "\n",
    "# (1) 모델 등록\n",
    "run_id = best_run_id\n",
    "model_name = best_model_name\n",
    "accuracy = best_accuracy\n",
    "\n",
    "model_version = register_model(model_name, run_id, accuracy)\n",
    "print(model_version)"
   ]
  },
  {
   "cell_type": "code",
   "execution_count": 21,
   "metadata": {},
   "outputs": [
    {
     "ename": "NameError",
     "evalue": "name 'promote_to_staging' is not defined",
     "output_type": "error",
     "traceback": [
      "\u001b[0;31m---------------------------------------------------------------------------\u001b[0m",
      "\u001b[0;31mNameError\u001b[0m                                 Traceback (most recent call last)",
      "Cell \u001b[0;32mIn[21], line 2\u001b[0m\n\u001b[1;32m      1\u001b[0m \u001b[38;5;66;03m# (2) 모델을 staging 단계로 승격\u001b[39;00m\n\u001b[0;32m----> 2\u001b[0m \u001b[43mpromote_to_staging\u001b[49m(model_name, run_id, \u001b[38;5;124m'\u001b[39m\u001b[38;5;124mmodel\u001b[39m\u001b[38;5;124m'\u001b[39m)\n",
      "\u001b[0;31mNameError\u001b[0m: name 'promote_to_staging' is not defined"
     ]
    }
   ],
   "source": [
    "# (2) 모델을 staging 단계로 승격\n",
    "promote_to_staging(model_name, run_id, 'model')"
   ]
  },
  {
   "cell_type": "code",
   "execution_count": 70,
   "metadata": {},
   "outputs": [
    {
     "name": "stdout",
     "output_type": "stream",
     "text": [
      "Model: LogisticRegression, version: 18 promoted to Production...\n"
     ]
    }
   ],
   "source": [
    "# (3) 모델을 Production 단계로 승격\n",
    "promote_to_production(model_name, '18')"
   ]
  },
  {
   "cell_type": "code",
   "execution_count": 71,
   "metadata": {},
   "outputs": [
    {
     "name": "stdout",
     "output_type": "stream",
     "text": [
      "Model: LogisticRegression, version: 18 Archived ...\n"
     ]
    }
   ],
   "source": [
    "# (4) 새로운 버전의 모델을 Production으로 승격시키고, 기존의 Production 버전은 Archived\n",
    "#promote_to_production(model_name, '3') # 4 staging -> production\n",
    "archive_model(model_name, '18') # production -> archive"
   ]
  },
  {
   "cell_type": "markdown",
   "metadata": {},
   "source": [
    "### 모델 Serving\n",
    "\n",
    "- FastAPI, Flask ... => API로 언제만들지...?????\n",
    "- mlflow가 해결을 해줍니다.\n",
    "- inference: 값을 전달하고, 그 값에 대한 예측값을 return (API)"
   ]
  },
  {
   "cell_type": "code",
   "execution_count": null,
   "metadata": {},
   "outputs": [],
   "source": []
  }
 ],
 "metadata": {
  "kernelspec": {
   "display_name": ".venv",
   "language": "python",
   "name": "python3"
  },
  "language_info": {
   "codemirror_mode": {
    "name": "ipython",
    "version": 3
   },
   "file_extension": ".py",
   "mimetype": "text/x-python",
   "name": "python",
   "nbconvert_exporter": "python",
   "pygments_lexer": "ipython3",
   "version": "3.11.9"
  }
 },
 "nbformat": 4,
 "nbformat_minor": 2
}
